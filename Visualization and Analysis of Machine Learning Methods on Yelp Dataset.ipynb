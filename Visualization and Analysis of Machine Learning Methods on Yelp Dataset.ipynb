{
 "cells": [
  {
   "cell_type": "markdown",
   "id": "18b6f797",
   "metadata": {},
   "source": [
    "# Introduction\n",
    "\n",
    "In this thesis we are going to investigate clustering methods on text data collected from Yelp user reviews.\n",
    "\n",
    "## Yelp\n",
    "\n",
    "Yelp is a worldwide used website where users are able to view the local businesses and leave reviews about their customer experiences. Various business types are available such as restaurants, bars, cafes, hairdressers, spas, and gas stations.\n",
    "Yelp helps users to find the most popular businesses in their local area. People who need services search the companies on the website, review and give stars. Reviews are a big concern for the business, since they affect the decisions of the customer base.\n",
    "\n",
    "Yelp website can be found in the following link <a href='https://www.yelp.com/'>[1]</a>.\n",
    "\n",
    "\n",
    "## Yelp Dataset\n",
    "\n",
    "Yelp Dataset contains information about the business, reviews and users. Yelp has invited developers, engineers, statisticians, academics to analyse, visualize and manipulate their datasets. \n",
    "Their database is updated with thousand of new logs every day. The large amounts of data are collected by the company is open to the public on the company website.\n",
    "Yelp Dataset can be found in the following <a href='https://www.yelp.com/dataset'>[2]</a>.\n",
    "\n",
    "Data retrieved from the website consists of 5 JSON files containing business, review, user, checkin, tip and photo files in JSON format.\n",
    "\n",
    "(1) business.json file contains business data including unique business id, name, address, city, state, postal code, location, star and review counts given by the users, attributes, categories and open hours.\n",
    "\n",
    "(2) review.json file contains text data of reviews with the user_id that wrote the review and the business_id the review is written for. 'Funny, useful and cool' notes given by users for the business reviews made by users and stars value which is from 1 to 5.\n",
    "\n",
    "(3) user.json file contains activity information about the users. Such as the count of reviews they have made and the notes they have received and the user_ids of their added friends.\n",
    "\n",
    "(4) checkin.json file contains date and hours details of a business checkin. photo.json file contains photo data including the caption of the photo and its label.\n",
    "\n",
    "(5) tip.json file contains tips written by a user on a business. Tips are shorter than reviews to convey quick suggestions.\n",
    "\n",
    "# Problem Definition\n",
    "\n",
    "The purpose of the project is to investigate if there exists a quantifiable relationship between the review text and the numerical review by comparing the resulted cluster labels of each data frames. Unsupervised Learning Methods are used for labelization. In order to detect relations, chi-square tests are applied. The hypothesis of the project suggests that user notes and review text are related and user notes are assumed to have sensible labels."
   ]
  },
  {
   "cell_type": "markdown",
   "id": "a1e44d2b",
   "metadata": {},
   "source": [
    "# Methodology\n",
    "\n",
    "## Supervised Learning\n",
    "\n",
    "In this learning method, there is a function from inputs to outputs. In the Supervised Learning, the algorithm is trained with the given input called 'labelled data' and the output called 'labels'. As a result of the training, the algorithm creates a function that should match with the already existing function. When new data points are inserted into this new function, outputs are generated according to the developed model. In other words, this learning technique produces a function that maps between inputs (labelled data) and desired outputs.\n",
    "\n",
    "Applications, where supervised learning is used, are image and object recognition, predictive analytics, customer sentiment analysis, spam detection. Details can be found in the following article <a href='https://www.ibm.com/cloud/learn/supervised-learning'>[3]</a>.\n",
    "\n",
    "\n",
    "### Classification\n",
    "\n",
    "Supervised Learning methods where the outputs came from a discrete set are called 'classification'. \n",
    "\n",
    "### Regression \n",
    "\n",
    "When the outputs come from a continuous set, one can use methods such as linear regression, desicion tree regression or neural network methods.\n",
    "\n",
    "\n",
    "### Cross-validation\n",
    "\n",
    "When the model has low quality, Underfitting or Overfitting may occur after new data is given to the model.\n",
    "Overfitting occurs when the model has learned the given training data, such that it performs poorly with different given inputs. Underfitting occurs when the algorithm could not relate the data meaningfully with the output.\n",
    "Deciding the best fitting model takes a lot of effort since various algorithms and parameters are used for testing. For the generated model to produce meaningful results, the model must be generated on a large dataset and tests should be done on a smaller portion of that large data. \n",
    "Cross-validation is used in order to measure how well the model fits the given data.\n",
    "Cross-validation is explained further in <a href='https://scikit-learn.org/stable/modules/cross_validation.html'>[4]</a>.\n",
    "\n",
    "\n",
    "\n",
    "## Unsupervised Learning\n",
    "\n",
    "In Unsupervised Learning given data only has input values which is sometimes called 'unlabeled data'. Hence the parameters are uncertain while modelling. Since there are no output or 'labels', outputs have to be generated according to a clustering of the unlabeled data. Unlike Supervised Learning the function from input to output must be calculated by the system. \n",
    "The system is expected to learn the relationships between the parameters from the examples by itself. \n",
    "\n",
    "Unsupervised learning is mostly used for clustering problems.\n",
    "Applications of unsupervised learning are computer vision, medical imaging, anomaly detection, recommendation engines.\n",
    "Further details can be found in <a href='https://www.ibm.com/cloud/learn/unsupervised-learning'>[5]</a>.\n",
    "\n",
    "\n",
    "### KMeans \n",
    "\n",
    "KMeans is an Unsupervised Learning method of that is used for clustering. Input data is split into k disjoint subsets for a given KMeans parameter (K). The algorithm first randomly selects K number of data points as the center of each cluster. These points are called 'centroids'. The distance of each data point to each centroid is measured by the algorithm. Then, data points are labelled based on the centroid they are closest to. Then new centroids are calculated as the center of each cluster. Algorithm repeats until centroids stabilize.\n",
    "\n",
    "Further details can be found in <a href='https://scikit-learn.org/stable/modules/generated/sklearn.cluster.KMeans.html?highlight=kmeans#sklearn.cluster.KMeans'>[6]</a>.\n",
    "\n",
    "#### Inertia of KMeans\n",
    "\n",
    "Inertia is the determination of cluster number input for the best clustering model. KMeans algorithm selects the clusters based on an approach that minimizes the distance between points in a cluster while maximizing the distance between the clusters. The distance between points in a cluster is calculated by the 'within-cluster sum of squares (WCSS)' method. WCSS sums the square of distances between each data point and the centroid. A good data model must contain low inertia with a low number of clusters. However, the number of clusters and inertia are inversely proportional.\n",
    "\n",
    "### DBSCAN\n",
    "\n",
    "DBSCAN is another Unsupervised Learning method used for clustering. It has two parameters: $\\epsilon$ and $Min_{sample}$. First, the algorithm randomly selects a starting point. Data points in the neighbourhood that has the starting point in its center around the predetermined radius $\\epsilon$ that consist of more data points than the predetermined minimum number of points $Min_{sample}$ are selected as 'core points'.  All the data points in the neighbourhoods that have the core points in their centers which $\\epsilon$ as the radius and consists more points than the $Min_{sample}$ value are selected as the new core points. The process is iterated until neighbourhoods around the core points do not have $Min_{sample}$ number of points. Then a new starting point is randomly selected and the same calculations are repeated until all data points are selected. Clusters are formed by all overlapping disks of radius $\\epsilon$ placed on core points.\n",
    "\n",
    "There may be a starting point in a neighbourhood that does contain $Min_{sample}$ number of points. Data points in these neighbourhoods are called 'Noise' and labelled as '-1' by default. These usually are deleted. DBSCAN terminates after all data points are labelled according to their clusters.\n",
    "\n",
    "Further details can be found in <a href='https://scikit-learn.org/stable/modules/generated/sklearn.cluster.DBSCAN.html'>[7]</a>\n",
    "\n",
    "## Statistical Tests\n",
    "\n",
    "### Chi-square\n",
    "\n",
    "The statistic that measures the mismatch between observed frequencies and expected frequencies is called chi-square statistics. If chi-square equals 0, the observed and expected frequencies have no relation. Chi-square value is greater when the match between the frequencies are larger. The p-value is the probability of obtaining a different chi-square from the current experiment. The p-value must be less than 0.05 for the test to be considered significant. When the p-value is above 0.05, it means that the test did not work properly."
   ]
  },
  {
   "cell_type": "markdown",
   "id": "4690fec3",
   "metadata": {},
   "source": [
    "# Experiments"
   ]
  },
  {
   "cell_type": "markdown",
   "id": "023e7dae",
   "metadata": {},
   "source": [
    "Experiments will be done using the Pyhon 3 [8] programming language and scikitlearn [9], pandas [10], numpy [11], scipy [12], matplotlib [13] libraries.\n",
    "We import these libraries below."
   ]
  },
  {
   "cell_type": "code",
   "execution_count": 1,
   "id": "8238aa9e",
   "metadata": {},
   "outputs": [],
   "source": [
    "import pandas as pd\n",
    "import numpy as np\n",
    "from sklearn import preprocessing\n",
    "from mpl_toolkits import mplot3d\n",
    "import matplotlib.pyplot as plt\n",
    "from sklearn.cluster import DBSCAN\n",
    "from sklearn.cluster import KMeans\n",
    "from sklearn.preprocessing import StandardScaler\n",
    "import scipy.stats as stats\n",
    "import pandas as pd\n",
    "import re\n",
    "import json\n",
    "from sklearn.feature_extraction.text import CountVectorizer\n"
   ]
  },
  {
   "cell_type": "markdown",
   "id": "434d2ff7",
   "metadata": {},
   "source": [
    "## Subsampling\n",
    "\n",
    "Review data retrieved from the website is approximately 6.77 GB. A sample of the data is required to process and manipulate the data easily.\n",
    "\n",
    "The project was done on a computer that has 8 GB ram and python generated a Memory Error and can not read the whole review.json file. Normally, using the sample() function, it is possible to derive the desired rows of samples from the dataset.\n",
    "However, in this project, splitting large sets into pieces that have desired rows was possible using \"Big Text Splitter\"<a href='https://www.withdata.com/big-text-file-splitter/'>[14]</a>. "
   ]
  },
  {
   "cell_type": "markdown",
   "id": "0c17cf14",
   "metadata": {},
   "source": [
    "## Conversion to Pandas Dataframe\n",
    "\n",
    "After splitting the review part of the Yelp dataset into 1000 rows, we were able to load the JSON file as a pandas data frame using the read_json() function from the pandas library. \n",
    "\n",
    "The converted data frame is named 'df_r', which will be used in further calculations.\n",
    ".head() method provides to see the first five rows of the data frame. \n",
    "df_r table includes columns review_id, user_id, business_id, stars, useful, funny, cool, text, date."
   ]
  },
  {
   "cell_type": "code",
   "execution_count": 2,
   "id": "4ebb8eb8",
   "metadata": {},
   "outputs": [
    {
     "data": {
      "text/html": [
       "<div>\n",
       "<style scoped>\n",
       "    .dataframe tbody tr th:only-of-type {\n",
       "        vertical-align: middle;\n",
       "    }\n",
       "\n",
       "    .dataframe tbody tr th {\n",
       "        vertical-align: top;\n",
       "    }\n",
       "\n",
       "    .dataframe thead th {\n",
       "        text-align: right;\n",
       "    }\n",
       "</style>\n",
       "<table border=\"1\" class=\"dataframe\">\n",
       "  <thead>\n",
       "    <tr style=\"text-align: right;\">\n",
       "      <th></th>\n",
       "      <th>review_id</th>\n",
       "      <th>user_id</th>\n",
       "      <th>business_id</th>\n",
       "      <th>stars</th>\n",
       "      <th>useful</th>\n",
       "      <th>funny</th>\n",
       "      <th>cool</th>\n",
       "      <th>text</th>\n",
       "      <th>date</th>\n",
       "    </tr>\n",
       "  </thead>\n",
       "  <tbody>\n",
       "    <tr>\n",
       "      <th>0</th>\n",
       "      <td>lWC-xP3rd6obsecCYsGZRg</td>\n",
       "      <td>ak0TdVmGKo4pwqdJSTLwWw</td>\n",
       "      <td>buF9druCkbuXLX526sGELQ</td>\n",
       "      <td>4</td>\n",
       "      <td>3</td>\n",
       "      <td>1</td>\n",
       "      <td>1</td>\n",
       "      <td>Apparently Prides Osteria had a rough summer a...</td>\n",
       "      <td>2014-10-11 03:34:02</td>\n",
       "    </tr>\n",
       "    <tr>\n",
       "      <th>1</th>\n",
       "      <td>8bFej1QE5LXp4O05qjGqXA</td>\n",
       "      <td>YoVfDbnISlW0f7abNQACIg</td>\n",
       "      <td>RA4V8pr014UyUbDvI-LW2A</td>\n",
       "      <td>4</td>\n",
       "      <td>1</td>\n",
       "      <td>0</td>\n",
       "      <td>0</td>\n",
       "      <td>This store is pretty good. Not as great as Wal...</td>\n",
       "      <td>2015-07-03 20:38:25</td>\n",
       "    </tr>\n",
       "    <tr>\n",
       "      <th>2</th>\n",
       "      <td>NDhkzczKjLshODbqDoNLSg</td>\n",
       "      <td>eC5evKn1TWDyHCyQAwguUw</td>\n",
       "      <td>_sS2LBIGNT5NQb6PD1Vtjw</td>\n",
       "      <td>5</td>\n",
       "      <td>0</td>\n",
       "      <td>0</td>\n",
       "      <td>0</td>\n",
       "      <td>I called WVM on the recommendation of a couple...</td>\n",
       "      <td>2013-05-28 20:38:06</td>\n",
       "    </tr>\n",
       "    <tr>\n",
       "      <th>3</th>\n",
       "      <td>T5fAqjjFooT4V0OeZyuk1w</td>\n",
       "      <td>SFQ1jcnGguO0LYWnbbftAA</td>\n",
       "      <td>0AzLzHfOJgL7ROwhdww2ew</td>\n",
       "      <td>2</td>\n",
       "      <td>1</td>\n",
       "      <td>1</td>\n",
       "      <td>1</td>\n",
       "      <td>I've stayed at many Marriott and Renaissance M...</td>\n",
       "      <td>2010-01-08 02:29:15</td>\n",
       "    </tr>\n",
       "    <tr>\n",
       "      <th>4</th>\n",
       "      <td>sjm_uUcQVxab_EeLCqsYLg</td>\n",
       "      <td>0kA0PAJ8QFMeveQWHFqz2A</td>\n",
       "      <td>8zehGz9jnxPqXtOc7KaJxA</td>\n",
       "      <td>4</td>\n",
       "      <td>0</td>\n",
       "      <td>0</td>\n",
       "      <td>0</td>\n",
       "      <td>The food is always great here. The service fro...</td>\n",
       "      <td>2011-07-28 18:05:01</td>\n",
       "    </tr>\n",
       "  </tbody>\n",
       "</table>\n",
       "</div>"
      ],
      "text/plain": [
       "                review_id                 user_id             business_id  \\\n",
       "0  lWC-xP3rd6obsecCYsGZRg  ak0TdVmGKo4pwqdJSTLwWw  buF9druCkbuXLX526sGELQ   \n",
       "1  8bFej1QE5LXp4O05qjGqXA  YoVfDbnISlW0f7abNQACIg  RA4V8pr014UyUbDvI-LW2A   \n",
       "2  NDhkzczKjLshODbqDoNLSg  eC5evKn1TWDyHCyQAwguUw  _sS2LBIGNT5NQb6PD1Vtjw   \n",
       "3  T5fAqjjFooT4V0OeZyuk1w  SFQ1jcnGguO0LYWnbbftAA  0AzLzHfOJgL7ROwhdww2ew   \n",
       "4  sjm_uUcQVxab_EeLCqsYLg  0kA0PAJ8QFMeveQWHFqz2A  8zehGz9jnxPqXtOc7KaJxA   \n",
       "\n",
       "   stars  useful  funny  cool  \\\n",
       "0      4       3      1     1   \n",
       "1      4       1      0     0   \n",
       "2      5       0      0     0   \n",
       "3      2       1      1     1   \n",
       "4      4       0      0     0   \n",
       "\n",
       "                                                text                date  \n",
       "0  Apparently Prides Osteria had a rough summer a... 2014-10-11 03:34:02  \n",
       "1  This store is pretty good. Not as great as Wal... 2015-07-03 20:38:25  \n",
       "2  I called WVM on the recommendation of a couple... 2013-05-28 20:38:06  \n",
       "3  I've stayed at many Marriott and Renaissance M... 2010-01-08 02:29:15  \n",
       "4  The food is always great here. The service fro... 2011-07-28 18:05:01  "
      ]
     },
     "execution_count": 2,
     "metadata": {},
     "output_type": "execute_result"
    }
   ],
   "source": [
    "review_json = 'yelp_academic_dataset_review_split.json'\n",
    "df_r = pd.read_json(review_json, lines=True) \n",
    "df_r.head()"
   ]
  },
  {
   "cell_type": "markdown",
   "id": "dd53fca1",
   "metadata": {},
   "source": [
    "## Feature Engineering\n",
    "\n",
    "The notes 'funny', 'useful', 'cool' of the users will be filtered from the data frame and vectorized according to the business_id they were given for the next step of this project.\n",
    "To calculate the sum of every note that is given to each business, the group_by() function of pandas is used with the sum() function and loaded into the df_bfuc data frame.\n",
    "The table contains for columns: business_id string and funny, useful, cool integer values. In further calculations, each business_id row is considered as a three-dimensional vector."
   ]
  },
  {
   "cell_type": "code",
   "execution_count": 3,
   "id": "2aa361c6",
   "metadata": {},
   "outputs": [
    {
     "data": {
      "text/html": [
       "<div>\n",
       "<style scoped>\n",
       "    .dataframe tbody tr th:only-of-type {\n",
       "        vertical-align: middle;\n",
       "    }\n",
       "\n",
       "    .dataframe tbody tr th {\n",
       "        vertical-align: top;\n",
       "    }\n",
       "\n",
       "    .dataframe thead th {\n",
       "        text-align: right;\n",
       "    }\n",
       "</style>\n",
       "<table border=\"1\" class=\"dataframe\">\n",
       "  <thead>\n",
       "    <tr style=\"text-align: right;\">\n",
       "      <th></th>\n",
       "      <th>funny</th>\n",
       "      <th>useful</th>\n",
       "      <th>cool</th>\n",
       "    </tr>\n",
       "    <tr>\n",
       "      <th>business_id</th>\n",
       "      <th></th>\n",
       "      <th></th>\n",
       "      <th></th>\n",
       "    </tr>\n",
       "  </thead>\n",
       "  <tbody>\n",
       "    <tr>\n",
       "      <th>-1ShItlulHnBsoOQWnblzw</th>\n",
       "      <td>0</td>\n",
       "      <td>1</td>\n",
       "      <td>0</td>\n",
       "    </tr>\n",
       "    <tr>\n",
       "      <th>-CmFN8rIN5T4Ic-Fvb8NlA</th>\n",
       "      <td>0</td>\n",
       "      <td>0</td>\n",
       "      <td>0</td>\n",
       "    </tr>\n",
       "    <tr>\n",
       "      <th>-IIvmjoEKa9Trhf4OxzJeA</th>\n",
       "      <td>0</td>\n",
       "      <td>0</td>\n",
       "      <td>0</td>\n",
       "    </tr>\n",
       "    <tr>\n",
       "      <th>-L69Ix0-xX4BlHA61fGvrQ</th>\n",
       "      <td>1</td>\n",
       "      <td>3</td>\n",
       "      <td>2</td>\n",
       "    </tr>\n",
       "    <tr>\n",
       "      <th>-Lk-Bf5heuKTl4n7bvptew</th>\n",
       "      <td>1</td>\n",
       "      <td>0</td>\n",
       "      <td>0</td>\n",
       "    </tr>\n",
       "  </tbody>\n",
       "</table>\n",
       "</div>"
      ],
      "text/plain": [
       "                        funny  useful  cool\n",
       "business_id                                \n",
       "-1ShItlulHnBsoOQWnblzw      0       1     0\n",
       "-CmFN8rIN5T4Ic-Fvb8NlA      0       0     0\n",
       "-IIvmjoEKa9Trhf4OxzJeA      0       0     0\n",
       "-L69Ix0-xX4BlHA61fGvrQ      1       3     2\n",
       "-Lk-Bf5heuKTl4n7bvptew      1       0     0"
      ]
     },
     "execution_count": 3,
     "metadata": {},
     "output_type": "execute_result"
    }
   ],
   "source": [
    "df_bfuc = df_r.groupby(['business_id'])[['funny' , 'useful' , 'cool']].sum()\n",
    "df_bfuc.head()"
   ]
  },
  {
   "cell_type": "markdown",
   "id": "4090f87e",
   "metadata": {},
   "source": [
    "For better handling of the data, it is necessary to better understand the general view of its components. \n",
    "The sum of each 'funny', 'useful', 'cool' count gives the general picture of the df_bfuc dataframe using the .sum() function according to the business_id column. \n",
    "Sum of the df_bfuc frame is loaded to the fucsum variable which can be seen as a pandas Series object using the type(fucsum) function. "
   ]
  },
  {
   "cell_type": "code",
   "execution_count": 4,
   "id": "0fc111ce",
   "metadata": {},
   "outputs": [
    {
     "data": {
      "text/plain": [
       "pandas.core.series.Series"
      ]
     },
     "execution_count": 4,
     "metadata": {},
     "output_type": "execute_result"
    }
   ],
   "source": [
    "fucsum = df_bfuc.sum(axis=0)\n",
    "type(fucsum)"
   ]
  },
  {
   "cell_type": "markdown",
   "id": "0837214b",
   "metadata": {},
   "source": [
    "The fucsum series contained two parts, first is the 'funny, useful, cool' attributes which are indexed as 'Notes'.\n",
    "The other part is the sum values that will be indexed as 'Count'. After naming the columns, fucsum is converted to a data frame.\n",
    "\n",
    "'Useful' note is the most used one in the sample."
   ]
  },
  {
   "cell_type": "code",
   "execution_count": 5,
   "id": "b32cb4ae",
   "metadata": {},
   "outputs": [
    {
     "data": {
      "text/html": [
       "<div>\n",
       "<style scoped>\n",
       "    .dataframe tbody tr th:only-of-type {\n",
       "        vertical-align: middle;\n",
       "    }\n",
       "\n",
       "    .dataframe tbody tr th {\n",
       "        vertical-align: top;\n",
       "    }\n",
       "\n",
       "    .dataframe thead th {\n",
       "        text-align: right;\n",
       "    }\n",
       "</style>\n",
       "<table border=\"1\" class=\"dataframe\">\n",
       "  <thead>\n",
       "    <tr style=\"text-align: right;\">\n",
       "      <th></th>\n",
       "      <th>Notes</th>\n",
       "      <th>Count</th>\n",
       "    </tr>\n",
       "  </thead>\n",
       "  <tbody>\n",
       "    <tr>\n",
       "      <th>0</th>\n",
       "      <td>funny</td>\n",
       "      <td>357</td>\n",
       "    </tr>\n",
       "    <tr>\n",
       "      <th>1</th>\n",
       "      <td>useful</td>\n",
       "      <td>1033</td>\n",
       "    </tr>\n",
       "    <tr>\n",
       "      <th>2</th>\n",
       "      <td>cool</td>\n",
       "      <td>383</td>\n",
       "    </tr>\n",
       "  </tbody>\n",
       "</table>\n",
       "</div>"
      ],
      "text/plain": [
       "    Notes  Count\n",
       "0   funny    357\n",
       "1  useful   1033\n",
       "2    cool    383"
      ]
     },
     "execution_count": 5,
     "metadata": {},
     "output_type": "execute_result"
    }
   ],
   "source": [
    "fucsum.index.name = 'Notes'\n",
    "fucsum1 = fucsum.reset_index(name='Count')\n",
    "df_fucsum = pd.DataFrame(fucsum1)\n",
    "df_fucsum.head()"
   ]
  },
  {
   "cell_type": "markdown",
   "id": "4214a161",
   "metadata": {},
   "source": [
    "### Normalization\n",
    "As mentioned before, each business_id row of the df_bfuc data frame is an integer vector. However, the scope of values as we can see above are far from each other, which makes it harder to apply clustering operations and 3D visualizations.\n",
    "\n",
    "Therefore, df_bfuc values should be compressed into a unit measure without disrupting the dimensions and distances. This method is called \"Normalization\" and can be applied using preprocessing package of the sklearn library. In order to prepare the df_bfuc data frame for the normalization, it is converted to a NumPy array.\n",
    "\n",
    "The normalization method used in the following is L1 Norm which is the sum of the magnitudes of the vectors. \n",
    "\n",
    "After applying the calculations below, an array called 'X_normalized' is obtained."
   ]
  },
  {
   "cell_type": "code",
   "execution_count": 6,
   "id": "6cd57d2c",
   "metadata": {},
   "outputs": [
    {
     "data": {
      "text/plain": [
       "array([[0.  , 1.  , 0.  ],\n",
       "       [0.  , 0.  , 0.  ],\n",
       "       [0.  , 0.  , 0.  ],\n",
       "       ...,\n",
       "       [0.  , 1.  , 0.  ],\n",
       "       [0.  , 1.  , 0.  ],\n",
       "       [0.25, 0.75, 0.  ]])"
      ]
     },
     "execution_count": 6,
     "metadata": {},
     "output_type": "execute_result"
    }
   ],
   "source": [
    "x = df_bfuc.values\n",
    "\n",
    "X_normalized = preprocessing.normalize(x, norm='l1')\n",
    "X_normalized"
   ]
  },
  {
   "cell_type": "markdown",
   "id": "819d85ec",
   "metadata": {},
   "source": [
    "For visualizing the X_normalized vectors in the unit cube, 'plot3d' function is defined using the mplot3d package from the mpl_toolkits and matplotlib.pyplot package.\n",
    "\n",
    "The plot3d function is called for all of the 3d visualizations in the project."
   ]
  },
  {
   "cell_type": "code",
   "execution_count": 7,
   "id": "a794b021",
   "metadata": {},
   "outputs": [],
   "source": [
    "def plot3d(data,color):\n",
    "    \n",
    "    fig = plt.figure()\n",
    "    ax = plt.axes(projection ='3d')\n",
    "\n",
    "\n",
    "    xs=data[:,0]\n",
    "    ys=data[:,1]\n",
    "    zs=data[:,2]\n",
    "\n",
    "    ax.scatter(xs,ys,zs, c =color)\n",
    "    ax.set_xlabel('Funny')\n",
    "    ax.set_ylabel('Useful')\n",
    "    ax.set_zlabel('Cool')\n",
    "    "
   ]
  },
  {
   "cell_type": "markdown",
   "id": "7f7fd15f",
   "metadata": {},
   "source": [
    "X_normalized vectors are plotted with the color red. The axis names are 'Funny', 'Useful' and 'Cool'. \n",
    "It is necessary to point out that scattered points in the plot do not represent a single vector. \n",
    "Since there are many vectors close to each other, points overlap and resemble a single scatter point."
   ]
  },
  {
   "cell_type": "code",
   "execution_count": 8,
   "id": "7c605915",
   "metadata": {},
   "outputs": [
    {
     "data": {
      "image/png": "[encoded data removed]",
      "text/plain": [
       "<Figure size 432x288 with 1 Axes>"
      ]
     },
     "metadata": {
      "needs_background": "light"
     },
     "output_type": "display_data"
    }
   ],
   "source": [
    "plot3d(X_normalized,'red')"
   ]
  },
  {
   "cell_type": "markdown",
   "id": "cb9f049f",
   "metadata": {},
   "source": [
    "In order to recognize patterns and similarities in the data two unsupervised learning methods will be applied.  Then we will compare the labels obtained from two different methods."
   ]
  },
  {
   "cell_type": "markdown",
   "id": "52f0dd25",
   "metadata": {},
   "source": [
    "## DBSCAN\n",
    "\n",
    "The first method that will be used to label the vectors is called Density-Based Spatial Clustering of Applications with Noise (DBSCAN), defined as an unsupervised learning method that can be used in vector arrays.\n",
    "\n",
    "To cluster the X_normalized data, StandardScaler package from sklearn.preprocessing module and DBSCAN package from sklearn.cluster module must be imported. To calculate different variations of the DBSCAN method with different parameters, the dbscan() function is defined below. DBSCAN algorithm is applied to the vector array following the steps in <a href= \"https://scikit-learn.org/stable/auto_examples/cluster/plot_dbscan.html\">[15]</a> from the official scikitlearn website. \n",
    "\n",
    "Returned db_labels array holds the label of each vector."
   ]
  },
  {
   "cell_type": "code",
   "execution_count": 9,
   "id": "bfb4291b",
   "metadata": {},
   "outputs": [],
   "source": [
    "def dbscan(array, epsilon, minsamples):\n",
    "    db_cluster = StandardScaler().fit_transform(array)\n",
    "\n",
    "    db= DBSCAN(eps = epsilon, min_samples = minsamples).fit(db_cluster)\n",
    "\n",
    "    core_samples_mask = np.zeros_like(db.labels_, dtype=bool)\n",
    "    core_samples_mask[db.core_sample_indices_] = True\n",
    "\n",
    "    db_labels= db.labels_\n",
    "    \n",
    "    return db_labels"
   ]
  },
  {
   "cell_type": "markdown",
   "id": "a683fd6c",
   "metadata": {},
   "source": [
    "DBSCAN method is applied below to the X_normalized array with 0.25 epsilon and 100 min_samples values."
   ]
  },
  {
   "cell_type": "code",
   "execution_count": 10,
   "id": "f318a431",
   "metadata": {},
   "outputs": [],
   "source": [
    "db_labels1 = dbscan(X_normalized,0.25,100)"
   ]
  },
  {
   "cell_type": "markdown",
   "id": "2d5d07de",
   "metadata": {},
   "source": [
    "The results of the DBSCAN method is examined below using len, set, list, count functions."
   ]
  },
  {
   "cell_type": "code",
   "execution_count": 11,
   "id": "20468b33",
   "metadata": {},
   "outputs": [
    {
     "name": "stdout",
     "output_type": "stream",
     "text": [
      "Number of label types: 3\n",
      "Estimated number of clusters: 2\n",
      "Estimated number of noise points: 248\n",
      "Labels: {0, 1, -1}\n"
     ]
    }
   ],
   "source": [
    "labelNum = len(set(db_labels1))\n",
    "clusterNum = len(set(db_labels1)) - (1 if -1 in db_labels1 else 0)\n",
    "noiseNum = list(db_labels1).count(-1)\n",
    "\n",
    "print(\"Number of label types: %d\" % labelNum)\n",
    "print(\"Estimated number of clusters: %d\" % clusterNum)\n",
    "print(\"Estimated number of noise points: %d\" % noiseNum)\n",
    "print(\"Labels: %s\" % set(db_labels1))"
   ]
  },
  {
   "cell_type": "markdown",
   "id": "82f7dc57",
   "metadata": {},
   "source": [
    "Results of DBSCAN labels are plotted below. It is easily observed that one of the clusters is dominant to others."
   ]
  },
  {
   "cell_type": "code",
   "execution_count": 12,
   "id": "eb13d2bd",
   "metadata": {},
   "outputs": [
    {
     "data": {
      "image/png": "[encoded data removed]",
      "text/plain": [
       "<Figure size 432x288 with 1 Axes>"
      ]
     },
     "metadata": {
      "needs_background": "light"
     },
     "output_type": "display_data"
    }
   ],
   "source": [
    "plot3d(X_normalized,db_labels1)"
   ]
  },
  {
   "cell_type": "markdown",
   "id": "e93f2cfd",
   "metadata": {},
   "source": [
    "The count of each DBSCAN label is calculated and observed with pandas crosstab function."
   ]
  },
  {
   "cell_type": "code",
   "execution_count": 13,
   "id": "8c4ff2a2",
   "metadata": {},
   "outputs": [
    {
     "data": {
      "text/html": [
       "<div>\n",
       "<style scoped>\n",
       "    .dataframe tbody tr th:only-of-type {\n",
       "        vertical-align: middle;\n",
       "    }\n",
       "\n",
       "    .dataframe tbody tr th {\n",
       "        vertical-align: top;\n",
       "    }\n",
       "\n",
       "    .dataframe thead th {\n",
       "        text-align: right;\n",
       "    }\n",
       "</style>\n",
       "<table border=\"1\" class=\"dataframe\">\n",
       "  <thead>\n",
       "    <tr style=\"text-align: right;\">\n",
       "      <th>col_0</th>\n",
       "      <th>Count</th>\n",
       "    </tr>\n",
       "    <tr>\n",
       "      <th>row_0</th>\n",
       "      <th></th>\n",
       "    </tr>\n",
       "  </thead>\n",
       "  <tbody>\n",
       "    <tr>\n",
       "      <th>-1</th>\n",
       "      <td>248</td>\n",
       "    </tr>\n",
       "    <tr>\n",
       "      <th>0</th>\n",
       "      <td>186</td>\n",
       "    </tr>\n",
       "    <tr>\n",
       "      <th>1</th>\n",
       "      <td>381</td>\n",
       "    </tr>\n",
       "  </tbody>\n",
       "</table>\n",
       "</div>"
      ],
      "text/plain": [
       "col_0  Count\n",
       "row_0       \n",
       "-1       248\n",
       " 0       186\n",
       " 1       381"
      ]
     },
     "execution_count": 13,
     "metadata": {},
     "output_type": "execute_result"
    }
   ],
   "source": [
    "ct = pd.crosstab(db_labels1,'Count')\n",
    "ct"
   ]
  },
  {
   "cell_type": "markdown",
   "id": "e0d4861b",
   "metadata": {},
   "source": [
    "## KMeans"
   ]
  },
  {
   "cell_type": "markdown",
   "id": "6b841fad",
   "metadata": {},
   "source": [
    "The other unsupervised clustering method that will be applied to the normalized 'funny', 'useful', 'cool' vector array is KMeans.\n",
    "The KMeans method will be used several times to analyze different cluster count results. \n",
    "Therefore, the kmeans() function is defined below using the KMeans package from sklearn.cluster module."
   ]
  },
  {
   "cell_type": "code",
   "execution_count": 14,
   "id": "239a8a3a",
   "metadata": {},
   "outputs": [],
   "source": [
    "def kmeans(normData,clusterCount):\n",
    "    model = KMeans(n_clusters=clusterCount)\n",
    "    model.fit(normData)\n",
    "    \n",
    "    return model.predict(normData)\n",
    "    "
   ]
  },
  {
   "cell_type": "markdown",
   "id": "616c6cca",
   "metadata": {},
   "source": [
    "KMeans is applied to the X_normalized vector array with 2 clusters. \n",
    "Labels are loaded into the kmeans2_labels array.\n",
    "To better understand the label distribution, vector are plotted according to the kmeans2_labels."
   ]
  },
  {
   "cell_type": "code",
   "execution_count": 15,
   "id": "5b6b4353",
   "metadata": {},
   "outputs": [
    {
     "data": {
      "image/png": "[encoded data removed]",
      "text/plain": [
       "<Figure size 432x288 with 1 Axes>"
      ]
     },
     "metadata": {
      "needs_background": "light"
     },
     "output_type": "display_data"
    }
   ],
   "source": [
    "kmeans2_labels = kmeans(X_normalized,2)\n",
    "plot3d(X_normalized,kmeans2_labels)"
   ]
  },
  {
   "cell_type": "markdown",
   "id": "5ce80e58",
   "metadata": {},
   "source": [
    "The count of each label within the kmeans2_labels array is calculated below using the crosstab function."
   ]
  },
  {
   "cell_type": "code",
   "execution_count": 16,
   "id": "e9228bd2",
   "metadata": {},
   "outputs": [
    {
     "data": {
      "text/html": [
       "<div>\n",
       "<style scoped>\n",
       "    .dataframe tbody tr th:only-of-type {\n",
       "        vertical-align: middle;\n",
       "    }\n",
       "\n",
       "    .dataframe tbody tr th {\n",
       "        vertical-align: top;\n",
       "    }\n",
       "\n",
       "    .dataframe thead th {\n",
       "        text-align: right;\n",
       "    }\n",
       "</style>\n",
       "<table border=\"1\" class=\"dataframe\">\n",
       "  <thead>\n",
       "    <tr style=\"text-align: right;\">\n",
       "      <th>col_0</th>\n",
       "      <th>Count</th>\n",
       "    </tr>\n",
       "    <tr>\n",
       "      <th>row_0</th>\n",
       "      <th></th>\n",
       "    </tr>\n",
       "  </thead>\n",
       "  <tbody>\n",
       "    <tr>\n",
       "      <th>0</th>\n",
       "      <td>324</td>\n",
       "    </tr>\n",
       "    <tr>\n",
       "      <th>1</th>\n",
       "      <td>491</td>\n",
       "    </tr>\n",
       "  </tbody>\n",
       "</table>\n",
       "</div>"
      ],
      "text/plain": [
       "col_0  Count\n",
       "row_0       \n",
       "0        324\n",
       "1        491"
      ]
     },
     "execution_count": 16,
     "metadata": {},
     "output_type": "execute_result"
    }
   ],
   "source": [
    "ct = pd.crosstab(kmeans2_labels,'Count')\n",
    "ct"
   ]
  },
  {
   "cell_type": "markdown",
   "id": "06ca8684",
   "metadata": {},
   "source": [
    "In order to view the different variations of the KMeans method cluster numbers with 3 is plotted below."
   ]
  },
  {
   "cell_type": "code",
   "execution_count": 17,
   "id": "b67aff9a",
   "metadata": {},
   "outputs": [
    {
     "data": {
      "image/png": "[encoded data removed]",
      "text/plain": [
       "<Figure size 432x288 with 1 Axes>"
      ]
     },
     "metadata": {
      "needs_background": "light"
     },
     "output_type": "display_data"
    }
   ],
   "source": [
    "kmeans3_labels = kmeans(X_normalized,3)\n",
    "plot3d(X_normalized, kmeans3_labels)"
   ]
  },
  {
   "cell_type": "code",
   "execution_count": 18,
   "id": "c58a444b",
   "metadata": {},
   "outputs": [
    {
     "data": {
      "text/html": [
       "<div>\n",
       "<style scoped>\n",
       "    .dataframe tbody tr th:only-of-type {\n",
       "        vertical-align: middle;\n",
       "    }\n",
       "\n",
       "    .dataframe tbody tr th {\n",
       "        vertical-align: top;\n",
       "    }\n",
       "\n",
       "    .dataframe thead th {\n",
       "        text-align: right;\n",
       "    }\n",
       "</style>\n",
       "<table border=\"1\" class=\"dataframe\">\n",
       "  <thead>\n",
       "    <tr style=\"text-align: right;\">\n",
       "      <th>col_0</th>\n",
       "      <th>Count</th>\n",
       "    </tr>\n",
       "    <tr>\n",
       "      <th>row_0</th>\n",
       "      <th></th>\n",
       "    </tr>\n",
       "  </thead>\n",
       "  <tbody>\n",
       "    <tr>\n",
       "      <th>0</th>\n",
       "      <td>381</td>\n",
       "    </tr>\n",
       "    <tr>\n",
       "      <th>1</th>\n",
       "      <td>237</td>\n",
       "    </tr>\n",
       "    <tr>\n",
       "      <th>2</th>\n",
       "      <td>197</td>\n",
       "    </tr>\n",
       "  </tbody>\n",
       "</table>\n",
       "</div>"
      ],
      "text/plain": [
       "col_0  Count\n",
       "row_0       \n",
       "0        381\n",
       "1        237\n",
       "2        197"
      ]
     },
     "execution_count": 18,
     "metadata": {},
     "output_type": "execute_result"
    }
   ],
   "source": [
    "ct1 = pd.crosstab(kmeans3_labels,'Count')\n",
    "ct1"
   ]
  },
  {
   "cell_type": "markdown",
   "id": "b1d7ffcc",
   "metadata": {},
   "source": [
    "The same calculations for plotting and counting labels when KMeans is applied to the vectorized array with 4 and 5 clusters.\n",
    "\n",
    "Results can be examined below. "
   ]
  },
  {
   "cell_type": "code",
   "execution_count": 19,
   "id": "19957029",
   "metadata": {},
   "outputs": [
    {
     "data": {
      "image/png": "[encoded data removed]",
      "text/plain": [
       "<Figure size 432x288 with 1 Axes>"
      ]
     },
     "metadata": {
      "needs_background": "light"
     },
     "output_type": "display_data"
    }
   ],
   "source": [
    "kmeans4_labels = kmeans(X_normalized,4)\n",
    "plot3d(X_normalized,kmeans4_labels)"
   ]
  },
  {
   "cell_type": "code",
   "execution_count": 20,
   "id": "33ddebe6",
   "metadata": {},
   "outputs": [
    {
     "data": {
      "image/png": "[encoded data removed]",
      "text/plain": [
       "<Figure size 432x288 with 1 Axes>"
      ]
     },
     "metadata": {
      "needs_background": "light"
     },
     "output_type": "display_data"
    }
   ],
   "source": [
    "kmeans5_labels = kmeans(X_normalized,5)\n",
    "plot3d(X_normalized,kmeans5_labels)"
   ]
  },
  {
   "cell_type": "markdown",
   "id": "e0cac794",
   "metadata": {},
   "source": [
    "### KMeans - Inertia"
   ]
  },
  {
   "cell_type": "markdown",
   "id": "249c5d0e",
   "metadata": {},
   "source": [
    "In order to view inertia values for each cluster within the designated range, a for loop has been created and the calculated inertia result is appended to the inertias  array."
   ]
  },
  {
   "cell_type": "code",
   "execution_count": 21,
   "id": "3a7bdf86",
   "metadata": {},
   "outputs": [],
   "source": [
    "ks = range(1, 7)\n",
    "inertias = []\n",
    "\n",
    "for k in ks:\n",
    "   \n",
    "    model = KMeans(n_clusters=k)\n",
    "    \n",
    "    model.fit(X_normalized)\n",
    "    \n",
    "    inertias.append(model.inertia_)\n",
    "    "
   ]
  },
  {
   "cell_type": "markdown",
   "id": "319638ac",
   "metadata": {},
   "source": [
    "To find the optimal K for a dataset, use the Elbow method; find the point where the decrease in inertia begins to slow. ks and inertias values are plotted below to find the elbow point."
   ]
  },
  {
   "cell_type": "code",
   "execution_count": 22,
   "id": "61e63ab8",
   "metadata": {},
   "outputs": [
    {
     "data": {
      "image/png": "[encoded data removed]",
      "text/plain": [
       "<Figure size 432x288 with 1 Axes>"
      ]
     },
     "metadata": {
      "needs_background": "light"
     },
     "output_type": "display_data"
    }
   ],
   "source": [
    "plt.plot(ks, inertias, '-o')\n",
    "plt.xlabel('number of clusters, k')\n",
    "plt.ylabel('inertia')\n",
    "plt.xticks(ks)\n",
    "plt.show()"
   ]
  },
  {
   "cell_type": "markdown",
   "id": "4340f297",
   "metadata": {},
   "source": [
    "Although the elbow point is open to interpretation, it is most likely reached with 3 clusters. However, in further calculation considering the quality of clusters, both kmeans2_labels and kmeans3_labels will be used."
   ]
  },
  {
   "cell_type": "markdown",
   "id": "44fc5812",
   "metadata": {},
   "source": [
    "## KMeans and DBSCAN Comparison"
   ]
  },
  {
   "cell_type": "markdown",
   "id": "c1ea9441",
   "metadata": {},
   "source": [
    "The quality of the clustering operations can be better observed by comparing the kmeans2_labels to dbscan_labels. Cross Tabulation of the data is used to compare the obtained label arrays. crosstab() function of the pandas library takes two array parameters and outputs a table containing index and column variables respectively."
   ]
  },
  {
   "cell_type": "code",
   "execution_count": 23,
   "id": "da08ce5c",
   "metadata": {},
   "outputs": [
    {
     "data": {
      "text/html": [
       "<div>\n",
       "<style scoped>\n",
       "    .dataframe tbody tr th:only-of-type {\n",
       "        vertical-align: middle;\n",
       "    }\n",
       "\n",
       "    .dataframe tbody tr th {\n",
       "        vertical-align: top;\n",
       "    }\n",
       "\n",
       "    .dataframe thead th {\n",
       "        text-align: right;\n",
       "    }\n",
       "</style>\n",
       "<table border=\"1\" class=\"dataframe\">\n",
       "  <thead>\n",
       "    <tr style=\"text-align: right;\">\n",
       "      <th>col_0</th>\n",
       "      <th>-1</th>\n",
       "      <th>0</th>\n",
       "      <th>1</th>\n",
       "    </tr>\n",
       "    <tr>\n",
       "      <th>kmeans3</th>\n",
       "      <th></th>\n",
       "      <th></th>\n",
       "      <th></th>\n",
       "    </tr>\n",
       "  </thead>\n",
       "  <tbody>\n",
       "    <tr>\n",
       "      <th>0</th>\n",
       "      <td>0</td>\n",
       "      <td>0</td>\n",
       "      <td>381</td>\n",
       "    </tr>\n",
       "    <tr>\n",
       "      <th>1</th>\n",
       "      <td>51</td>\n",
       "      <td>186</td>\n",
       "      <td>0</td>\n",
       "    </tr>\n",
       "    <tr>\n",
       "      <th>2</th>\n",
       "      <td>197</td>\n",
       "      <td>0</td>\n",
       "      <td>0</td>\n",
       "    </tr>\n",
       "  </tbody>\n",
       "</table>\n",
       "</div>"
      ],
      "text/plain": [
       "col_0     -1    0    1\n",
       "kmeans3               \n",
       "0          0    0  381\n",
       "1         51  186    0\n",
       "2        197    0    0"
      ]
     },
     "execution_count": 23,
     "metadata": {},
     "output_type": "execute_result"
    }
   ],
   "source": [
    "ct_3x3 = pd.crosstab(kmeans3_labels, db_labels1)\n",
    "ct_3x3.index.name = 'kmeans3'\n",
    "ct_3x3"
   ]
  },
  {
   "cell_type": "markdown",
   "id": "5d22466d",
   "metadata": {},
   "source": [
    "The above result shows that KMeans labels 381 vectors as \"0\" and DBSCAN labels the same vectors as \"1\".\n",
    "KMeans labels 197 vectors as \"2\" and DBSCAN labels the same vectors as \"-1\".\n",
    "However, 237 vectors labelled as \"1\" from the KMeans method is separated to two parts with \"-1\" and \"0\" labels according to the DBSCAN method which consist of a majority of \"0\" labels.\n",
    "This differentiation lowers the quality of the labelling method results."
   ]
  },
  {
   "cell_type": "code",
   "execution_count": 24,
   "id": "70d24ae4",
   "metadata": {},
   "outputs": [
    {
     "data": {
      "text/html": [
       "<div>\n",
       "<style scoped>\n",
       "    .dataframe tbody tr th:only-of-type {\n",
       "        vertical-align: middle;\n",
       "    }\n",
       "\n",
       "    .dataframe tbody tr th {\n",
       "        vertical-align: top;\n",
       "    }\n",
       "\n",
       "    .dataframe thead th {\n",
       "        text-align: right;\n",
       "    }\n",
       "</style>\n",
       "<table border=\"1\" class=\"dataframe\">\n",
       "  <thead>\n",
       "    <tr style=\"text-align: right;\">\n",
       "      <th>col_0</th>\n",
       "      <th>-1</th>\n",
       "      <th>0</th>\n",
       "      <th>1</th>\n",
       "    </tr>\n",
       "    <tr>\n",
       "      <th>kmeans2</th>\n",
       "      <th></th>\n",
       "      <th></th>\n",
       "      <th></th>\n",
       "    </tr>\n",
       "  </thead>\n",
       "  <tbody>\n",
       "    <tr>\n",
       "      <th>0</th>\n",
       "      <td>138</td>\n",
       "      <td>186</td>\n",
       "      <td>0</td>\n",
       "    </tr>\n",
       "    <tr>\n",
       "      <th>1</th>\n",
       "      <td>110</td>\n",
       "      <td>0</td>\n",
       "      <td>381</td>\n",
       "    </tr>\n",
       "  </tbody>\n",
       "</table>\n",
       "</div>"
      ],
      "text/plain": [
       "col_0     -1    0    1\n",
       "kmeans2               \n",
       "0        138  186    0\n",
       "1        110    0  381"
      ]
     },
     "execution_count": 24,
     "metadata": {},
     "output_type": "execute_result"
    }
   ],
   "source": [
    "ct_2x3 = pd.crosstab(kmeans2_labels, db_labels1)\n",
    "ct_2x3.index.name = 'kmeans2'\n",
    "ct_2x3"
   ]
  },
  {
   "cell_type": "markdown",
   "id": "95a613ce",
   "metadata": {},
   "source": [
    "To compare DBSCAN and KMeans with 2 label types, DBSCAN should be reapplied with different parameters. \n",
    "After recalculating the DBSCAN method on the X_normalized array with 0.25 epsilon value and 200 minimum samples, we have obtained two label sets named \"0\" and \"-1\". Labels are loaded into the db_label2 array."
   ]
  },
  {
   "cell_type": "code",
   "execution_count": 25,
   "id": "90b0197f",
   "metadata": {},
   "outputs": [
    {
     "name": "stdout",
     "output_type": "stream",
     "text": [
      "Labels: {0, -1}\n"
     ]
    }
   ],
   "source": [
    "db_labels2 = dbscan(X_normalized, 0.25, 200)\n",
    "print(\"Labels: %s\" % set(db_labels2))"
   ]
  },
  {
   "cell_type": "markdown",
   "id": "e04ff417",
   "metadata": {},
   "source": [
    "Cross tabulation is used below to compare the kmeans2_labels and the db_labels2 arrays."
   ]
  },
  {
   "cell_type": "code",
   "execution_count": 26,
   "id": "11a0343a",
   "metadata": {},
   "outputs": [
    {
     "data": {
      "text/html": [
       "<div>\n",
       "<style scoped>\n",
       "    .dataframe tbody tr th:only-of-type {\n",
       "        vertical-align: middle;\n",
       "    }\n",
       "\n",
       "    .dataframe tbody tr th {\n",
       "        vertical-align: top;\n",
       "    }\n",
       "\n",
       "    .dataframe thead th {\n",
       "        text-align: right;\n",
       "    }\n",
       "</style>\n",
       "<table border=\"1\" class=\"dataframe\">\n",
       "  <thead>\n",
       "    <tr style=\"text-align: right;\">\n",
       "      <th>col_0</th>\n",
       "      <th>-1</th>\n",
       "      <th>0</th>\n",
       "    </tr>\n",
       "    <tr>\n",
       "      <th>kmeans2</th>\n",
       "      <th></th>\n",
       "      <th></th>\n",
       "    </tr>\n",
       "  </thead>\n",
       "  <tbody>\n",
       "    <tr>\n",
       "      <th>0</th>\n",
       "      <td>324</td>\n",
       "      <td>0</td>\n",
       "    </tr>\n",
       "    <tr>\n",
       "      <th>1</th>\n",
       "      <td>110</td>\n",
       "      <td>381</td>\n",
       "    </tr>\n",
       "  </tbody>\n",
       "</table>\n",
       "</div>"
      ],
      "text/plain": [
       "col_0     -1    0\n",
       "kmeans2          \n",
       "0        324    0\n",
       "1        110  381"
      ]
     },
     "execution_count": 26,
     "metadata": {},
     "output_type": "execute_result"
    }
   ],
   "source": [
    "ct_2x2 = pd.crosstab(kmeans2_labels, db_labels2)\n",
    "ct_2x2.index.name = 'kmeans2'\n",
    "ct_2x2"
   ]
  },
  {
   "cell_type": "markdown",
   "id": "19a52060",
   "metadata": {},
   "source": [
    "Cross tabulation of KMeans and DBSCAN methods with 2 data labels shows that one cluster from DBSCAN with 3 data labels remain the same however the others labelled as a whole new cluster. "
   ]
  },
  {
   "cell_type": "markdown",
   "id": "705f64fa",
   "metadata": {},
   "source": [
    "## Text Vectorization"
   ]
  },
  {
   "cell_type": "markdown",
   "id": "a829f1d2",
   "metadata": {},
   "source": [
    "The df_r data frame has a column called 'text' that involves customer reviews. \n",
    "In order to analyze the review information of each business, reviews must be grouped according to their matching busines_id. Text analysis will be done using every word from the reviews. However, the revies have nonrelated letters and special characters that shoul not be involved in the calculation.\n",
    "\n",
    "To standardize and clean the 'text' values, calculations below are made using the regex library. Following sources are used <a href='https://www.rexegg.com/regex-quickstart.html'>[16]</a>  <a href='https://www.geeksforgeeks.org/replace-values-in-pandas-dataframe-using-regex/'>[17]</a>.\n"
   ]
  },
  {
   "cell_type": "markdown",
   "id": "8da510e9",
   "metadata": {},
   "source": [
    "### Text Preprocessing\n",
    "\n",
    "First of all, 'text_edit' column that is the lowered version of the 'text' column is added to the df_r data frame."
   ]
  },
  {
   "cell_type": "code",
   "execution_count": 27,
   "id": "49f28e04",
   "metadata": {},
   "outputs": [],
   "source": [
    "df_r['text_edit'] = df_r['text'].str.lower().values"
   ]
  },
  {
   "cell_type": "markdown",
   "id": "b6eac53e",
   "metadata": {},
   "source": [
    "Combinations containing word characters next to digits and single letters are cleaned using the replace function of regex."
   ]
  },
  {
   "cell_type": "code",
   "execution_count": 28,
   "id": "9db23465",
   "metadata": {},
   "outputs": [],
   "source": [
    "df_nw = df_r['text_edit'].replace(to_replace = '[\\W\\d]', value = ' ', regex = True)\n",
    "df_up = df_nw.replace(to_replace = '\\s\\w\\s', value = ' ', regex = True)"
   ]
  },
  {
   "cell_type": "markdown",
   "id": "935034b5",
   "metadata": {},
   "source": [
    "The edited column is replaced with the \"text_edit\" column in the df_r data frame."
   ]
  },
  {
   "cell_type": "code",
   "execution_count": 29,
   "id": "96bf050d",
   "metadata": {},
   "outputs": [],
   "source": [
    "df_r = df_r.assign(text_edit=df_up)"
   ]
  },
  {
   "cell_type": "markdown",
   "id": "bd9d1a3e",
   "metadata": {},
   "source": [
    "After computing the alterations on the text_edit column, results are grouped by their matching business_id. \n",
    "The goal here is to create a bag full of words for each business from their corresponding reviews.\n",
    "df_r is grouped according to business_id loading the business_id column to df_bid. Then df_bid is joined with the \"text_edit\" column. The joined columns are loaded into the text_list2 data frame. "
   ]
  },
  {
   "cell_type": "code",
   "execution_count": 30,
   "id": "8a61e476",
   "metadata": {},
   "outputs": [],
   "source": [
    "df_bid = df_r.groupby('business_id')\n",
    "text_list2 = df_bid['text_edit'].agg(lambda column: \" \".join(column))"
   ]
  },
  {
   "cell_type": "markdown",
   "id": "80c67b20",
   "metadata": {},
   "source": [
    "To increase the readibility of the text_list2 dataframe, column that contains words is named \"reviews\". The data frame is written into a JSON file called \"review.json\"."
   ]
  },
  {
   "cell_type": "code",
   "execution_count": 31,
   "id": "61249b48",
   "metadata": {},
   "outputs": [],
   "source": [
    "text_list3 = text_list2.reset_index(name=\"reviews\")\n",
    "text_list3.to_json('reviews.json', orient='records', lines=True)"
   ]
  },
  {
   "cell_type": "markdown",
   "id": "46932189",
   "metadata": {},
   "source": [
    "### Count Vectorizer \n",
    "\n",
    "Count Vectorizer function is used to convert every row in a data frame to vectors.\n",
    "In order to calculate the vector values, the function finds all of the unique words in the data frame and creates a reference list from the bag of unique words. If a review does contain a word from the reference list, then the array of that row contains zero in the position of the word. If a review contains multiple words, the count of that word is written in the vector.\n",
    "Every row is converted to a vector according to the reference list. Further details can be found in the following scikitlearn documentation <a href='https://scikit-learn.org/stable/modules/generated/sklearn.feature_extraction.text.CountVectorizer.html'>[18]</a>\n",
    "\n",
    "\n",
    "### Converting Text to Vectors\n",
    "\n",
    "CountVectorizer function must be imported from sklearn.feature_extraction module."
   ]
  },
  {
   "cell_type": "code",
   "execution_count": 32,
   "id": "f2f69e25",
   "metadata": {},
   "outputs": [
    {
     "data": {
      "text/plain": [
       "array(['__', 'aaaaaand', 'aback', ..., 'zucchini', 'zzzzzzzz', 'â¼'],\n",
       "      dtype=object)"
      ]
     },
     "execution_count": 32,
     "metadata": {},
     "output_type": "execute_result"
    }
   ],
   "source": [
    "from sklearn.feature_extraction.text import CountVectorizer\n",
    "\n",
    "\n",
    "vectorizer = CountVectorizer()\n",
    "X = vectorizer.fit_transform(text_list2)\n",
    "vectorizer.get_feature_names_out()"
   ]
  },
  {
   "cell_type": "markdown",
   "id": "6b15921e",
   "metadata": {},
   "source": [
    "After applying count vectorization that converts text_list2 data frame to the X dataframe, X must be converted to an array with the toarray() function of the NumPy library."
   ]
  },
  {
   "cell_type": "code",
   "execution_count": 33,
   "id": "6b8bcb94",
   "metadata": {},
   "outputs": [],
   "source": [
    "x2 = X.toarray()"
   ]
  },
  {
   "cell_type": "markdown",
   "id": "e3dc1c60",
   "metadata": {},
   "source": [
    "x2 array must be normalized using the same steps in the Normalization section after importing the preprocessing package from the sklearn module."
   ]
  },
  {
   "cell_type": "code",
   "execution_count": 34,
   "id": "76deaa02",
   "metadata": {},
   "outputs": [
    {
     "data": {
      "text/plain": [
       "array([[0., 0., 0., ..., 0., 0., 0.],\n",
       "       [0., 0., 0., ..., 0., 0., 0.],\n",
       "       [0., 0., 0., ..., 0., 0., 0.],\n",
       "       ...,\n",
       "       [0., 0., 0., ..., 0., 0., 0.],\n",
       "       [0., 0., 0., ..., 0., 0., 0.],\n",
       "       [0., 0., 0., ..., 0., 0., 0.]])"
      ]
     },
     "execution_count": 34,
     "metadata": {},
     "output_type": "execute_result"
    }
   ],
   "source": [
    "X2_normalized = preprocessing.normalize(x2, norm='l1')\n",
    "X2_normalized"
   ]
  },
  {
   "cell_type": "markdown",
   "id": "4c2270ee",
   "metadata": {},
   "source": [
    "The goal of the project is to investigate similarities between user reviews and given notes. Therefore KMeans clusters of each data frame will be compared in the analysis section, using cross tabulation and chi-square test.\n",
    "\n",
    "KMeans is applied to the vectorized array with 2 clusters to prepare the text labels for further analysis."
   ]
  },
  {
   "cell_type": "code",
   "execution_count": 35,
   "id": "f6b480e0",
   "metadata": {},
   "outputs": [
    {
     "data": {
      "text/html": [
       "<div>\n",
       "<style scoped>\n",
       "    .dataframe tbody tr th:only-of-type {\n",
       "        vertical-align: middle;\n",
       "    }\n",
       "\n",
       "    .dataframe tbody tr th {\n",
       "        vertical-align: top;\n",
       "    }\n",
       "\n",
       "    .dataframe thead th {\n",
       "        text-align: right;\n",
       "    }\n",
       "</style>\n",
       "<table border=\"1\" class=\"dataframe\">\n",
       "  <thead>\n",
       "    <tr style=\"text-align: right;\">\n",
       "      <th>col_0</th>\n",
       "      <th>Count</th>\n",
       "    </tr>\n",
       "    <tr>\n",
       "      <th>row_0</th>\n",
       "      <th></th>\n",
       "    </tr>\n",
       "  </thead>\n",
       "  <tbody>\n",
       "    <tr>\n",
       "      <th>0</th>\n",
       "      <td>382</td>\n",
       "    </tr>\n",
       "    <tr>\n",
       "      <th>1</th>\n",
       "      <td>433</td>\n",
       "    </tr>\n",
       "  </tbody>\n",
       "</table>\n",
       "</div>"
      ],
      "text/plain": [
       "col_0  Count\n",
       "row_0       \n",
       "0        382\n",
       "1        433"
      ]
     },
     "execution_count": 35,
     "metadata": {},
     "output_type": "execute_result"
    }
   ],
   "source": [
    "text2_labels = kmeans(X2_normalized,2)\n",
    "ct_text2 = pd.crosstab(text2_labels,'Count')\n",
    "ct_text2"
   ]
  },
  {
   "cell_type": "markdown",
   "id": "216bdf42",
   "metadata": {},
   "source": [
    "### The Inertia of Text Vectorization"
   ]
  },
  {
   "cell_type": "markdown",
   "id": "99843d77",
   "metadata": {},
   "source": [
    "Recall from the \"KMeans-Inertia\" section that the inertia algorithm was used to help find the elbow point of a KMeans Inertia graph to guess the best clustering within the cluster range. Inertias of the text labels ranging from 1 to 7 clusters are calculated below.  "
   ]
  },
  {
   "cell_type": "code",
   "execution_count": 36,
   "id": "9049611a",
   "metadata": {},
   "outputs": [],
   "source": [
    "ks = range(1, 7)\n",
    "inertias = []\n",
    "\n",
    "for k in ks:\n",
    "    \n",
    "    model = KMeans(n_clusters=k)\n",
    "    model.fit(X2_normalized)\n",
    "    inertias.append(model.inertia_)\n",
    "\n"
   ]
  },
  {
   "cell_type": "markdown",
   "id": "b43e4ba0",
   "metadata": {},
   "source": [
    "Inertia values of the text labels are plotted. The elbow point is estimated to be 4 clusters."
   ]
  },
  {
   "cell_type": "code",
   "execution_count": 37,
   "id": "dec6f8c5",
   "metadata": {},
   "outputs": [
    {
     "data": {
      "image/png": "[encoded data removed]",
      "text/plain": [
       "<Figure size 432x288 with 1 Axes>"
      ]
     },
     "metadata": {
      "needs_background": "light"
     },
     "output_type": "display_data"
    }
   ],
   "source": [
    "plt.plot(ks, inertias, '-o')\n",
    "plt.xlabel('number of clusters, k')\n",
    "plt.ylabel('inertia')\n",
    "plt.xticks(ks)\n",
    "plt.show()\n"
   ]
  },
  {
   "cell_type": "markdown",
   "id": "8b1fa6cb",
   "metadata": {},
   "source": [
    "KMeans is applied to the array with 4 clusters below. The cluster on the elbow point of text labels will be compared to the funny, useful, cool valued business vectors and results will be analyzed in the analysis section."
   ]
  },
  {
   "cell_type": "code",
   "execution_count": 38,
   "id": "f3493d40",
   "metadata": {},
   "outputs": [
    {
     "data": {
      "text/html": [
       "<div>\n",
       "<style scoped>\n",
       "    .dataframe tbody tr th:only-of-type {\n",
       "        vertical-align: middle;\n",
       "    }\n",
       "\n",
       "    .dataframe tbody tr th {\n",
       "        vertical-align: top;\n",
       "    }\n",
       "\n",
       "    .dataframe thead th {\n",
       "        text-align: right;\n",
       "    }\n",
       "</style>\n",
       "<table border=\"1\" class=\"dataframe\">\n",
       "  <thead>\n",
       "    <tr style=\"text-align: right;\">\n",
       "      <th>col_0</th>\n",
       "      <th>Count</th>\n",
       "    </tr>\n",
       "    <tr>\n",
       "      <th>row_0</th>\n",
       "      <th></th>\n",
       "    </tr>\n",
       "  </thead>\n",
       "  <tbody>\n",
       "    <tr>\n",
       "      <th>0</th>\n",
       "      <td>318</td>\n",
       "    </tr>\n",
       "    <tr>\n",
       "      <th>1</th>\n",
       "      <td>14</td>\n",
       "    </tr>\n",
       "    <tr>\n",
       "      <th>2</th>\n",
       "      <td>263</td>\n",
       "    </tr>\n",
       "    <tr>\n",
       "      <th>3</th>\n",
       "      <td>220</td>\n",
       "    </tr>\n",
       "  </tbody>\n",
       "</table>\n",
       "</div>"
      ],
      "text/plain": [
       "col_0  Count\n",
       "row_0       \n",
       "0        318\n",
       "1         14\n",
       "2        263\n",
       "3        220"
      ]
     },
     "execution_count": 38,
     "metadata": {},
     "output_type": "execute_result"
    }
   ],
   "source": [
    "text4_labels = kmeans(X2_normalized,4)\n",
    "ct_text4 = pd.crosstab(text4_labels,'Count')\n",
    "ct_text4"
   ]
  },
  {
   "cell_type": "markdown",
   "id": "c04e8d3a",
   "metadata": {},
   "source": [
    "# Analysis"
   ]
  },
  {
   "cell_type": "markdown",
   "id": "1fa23343",
   "metadata": {},
   "source": [
    "## KMeans - DBSCAN on Notes\n",
    "\n",
    "Cross-tabulations obtained from the KMeans and DBSCAN Comparison sections are analyzed below. The stats package of the scipy library is used for the statistical tests."
   ]
  },
  {
   "cell_type": "code",
   "execution_count": 39,
   "id": "5977ab39",
   "metadata": {},
   "outputs": [
    {
     "name": "stdout",
     "output_type": "stream",
     "text": [
      "col_0     -1    0\n",
      "kmeans2          \n",
      "0        324    0\n",
      "1        110  381\n",
      "Power_divergenceResult(statistic=472.0527607361963, pvalue=5.431225839119839e-102)\n"
     ]
    }
   ],
   "source": [
    "print(ct_2x2)\n",
    "print(stats.chisquare(ct_2x2, axis= None))"
   ]
  },
  {
   "cell_type": "markdown",
   "id": "e8736720",
   "metadata": {},
   "source": [
    "The chi-square value of the ct_2x2 table is close to 472 and the p-value of the same table is far below than 0.05. It can be said that there is a strong relation between the labelling of KMeans and DBSCAN methods. "
   ]
  },
  {
   "cell_type": "markdown",
   "id": "231b7796",
   "metadata": {},
   "source": [
    "From the inertia graph plotted in the KMeans-Inertia section, the elbow point of the inertia was determined as 3. In order to compare the best cluster of notes labels with KMeans and DBSCAN, chi-square test is going to be used below."
   ]
  },
  {
   "cell_type": "code",
   "execution_count": 40,
   "id": "c5e87de9",
   "metadata": {},
   "outputs": [
    {
     "name": "stdout",
     "output_type": "stream",
     "text": [
      "col_0     -1    0    1\n",
      "kmeans3               \n",
      "0          0    0  381\n",
      "1         51  186    0\n",
      "2        197    0    0\n",
      "Power_divergenceResult(statistic=1627.3349693251535, pvalue=0.0)\n"
     ]
    }
   ],
   "source": [
    "print(ct_3x3)\n",
    "print(stats.chisquare(ct_3x3, axis= None))"
   ]
  },
  {
   "cell_type": "markdown",
   "id": "f3e93e27",
   "metadata": {},
   "source": [
    "The label distributions are sensible in the above table and the p-value is 0 meaning that there is not any different result obtained from the test. Chisquare value is far greater than 0, which means there is a very strong relation between the KMeans DBSCAN clusters."
   ]
  },
  {
   "cell_type": "markdown",
   "id": "40d170bb",
   "metadata": {},
   "source": [
    "## Notes and Text Labels"
   ]
  },
  {
   "cell_type": "markdown",
   "id": "d3be8f81",
   "metadata": {},
   "source": [
    "Labels that are obtained with KMeans and Dbscan method from notes data and text data are compared below using cross tabulation and the stats.chisquare function."
   ]
  },
  {
   "cell_type": "code",
   "execution_count": 41,
   "id": "d9e7d23d",
   "metadata": {},
   "outputs": [
    {
     "name": "stdout",
     "output_type": "stream",
     "text": [
      "col_0    0    1\n",
      "row_0          \n",
      "0      150  174\n",
      "1      232  259\n"
     ]
    }
   ],
   "source": [
    "ct_2x2nt= pd.crosstab(kmeans2_labels, text2_labels)\n",
    "\n",
    "print(ct_2x2nt)"
   ]
  },
  {
   "cell_type": "code",
   "execution_count": 42,
   "id": "3f9b4db4",
   "metadata": {},
   "outputs": [
    {
     "name": "stdout",
     "output_type": "stream",
     "text": [
      "Power_divergenceResult(statistic=37.42208588957055, pvalue=3.74605056323478e-08)\n"
     ]
    }
   ],
   "source": [
    "print(stats.chisquare(ct_2x2nt, axis= None))"
   ]
  },
  {
   "cell_type": "markdown",
   "id": "a4ae0b7d",
   "metadata": {},
   "source": [
    "The labels of the vectorization are evenly split. '0' labelled vectors are more in KMeans clustering. Since the chi-square result is nearly 38, it can be understood that there is a weak relationship even though the distributions in the clusters are problematic."
   ]
  },
  {
   "cell_type": "markdown",
   "id": "b7486cb3",
   "metadata": {},
   "source": [
    "Cross tabulation below has DBSCAN labels its rows and vectorization labels in its columns.  "
   ]
  },
  {
   "cell_type": "code",
   "execution_count": 43,
   "id": "d9d4033c",
   "metadata": {},
   "outputs": [
    {
     "name": "stdout",
     "output_type": "stream",
     "text": [
      "col_0    0    1\n",
      "row_0          \n",
      "-1     197  237\n",
      " 0     185  196\n"
     ]
    }
   ],
   "source": [
    "ct_2x2dt= pd.crosstab(db_labels2, text2_labels)\n",
    "print(ct_2x2dt)"
   ]
  },
  {
   "cell_type": "code",
   "execution_count": 44,
   "id": "9f1f10b6",
   "metadata": {},
   "outputs": [
    {
     "name": "stdout",
     "output_type": "stream",
     "text": [
      "Power_divergenceResult(statistic=7.669938650306749, pvalue=0.05334907419686734)\n"
     ]
    }
   ],
   "source": [
    "print(stats.chisquare(ct_2x2dt, axis= None))"
   ]
  },
  {
   "cell_type": "markdown",
   "id": "2ef94d79",
   "metadata": {},
   "source": [
    "From the ct_2x2dt table, it can be seen that DBSCAN has labelled 53% of the data as \"-1\" and 43% as \"0\" while the Count Vectorizer function has labelled 53% of the data as \"1\" and 43% as \"0\". Since the label counts in the cross tabulation are almost evenly distributed, it can be said that these clusters are not sensible. According to the chi-square function results, the p-value is calculated close to 0.05, which means that this test can be considered as failed."
   ]
  },
  {
   "cell_type": "markdown",
   "id": "875175f6",
   "metadata": {},
   "source": [
    "From the inertia graph plotted in the Inertia of Text Vectorization section the elbow point of the vectorization was determined as 4. In order to compare the best cluster of text labels with KMeans, kmeans2_labels and text4_labels are cross tabulated below."
   ]
  },
  {
   "cell_type": "code",
   "execution_count": 45,
   "id": "86a95e9c",
   "metadata": {},
   "outputs": [
    {
     "name": "stdout",
     "output_type": "stream",
     "text": [
      "col_0    0   1    2    3\n",
      "row_0                   \n",
      "0      131   2  100   91\n",
      "1      187  12  163  129\n"
     ]
    }
   ],
   "source": [
    "ct_2x4nt= pd.crosstab(kmeans2_labels, text4_labels)\n",
    "print(ct_2x4nt)"
   ]
  },
  {
   "cell_type": "code",
   "execution_count": 46,
   "id": "3b47a948",
   "metadata": {},
   "outputs": [
    {
     "name": "stdout",
     "output_type": "stream",
     "text": [
      "Power_divergenceResult(statistic=301.7509202453988, pvalue=2.5573984702216795e-61)\n"
     ]
    }
   ],
   "source": [
    "print(stats.chisquare(ct_2x4nt, axis= None))"
   ]
  },
  {
   "cell_type": "markdown",
   "id": "72824e96",
   "metadata": {},
   "source": [
    "Text vectorization label distribution is 39%, 2%, 32%, 27% and KMeans label distribution of the notes are 40% and 60% respectively. The result of the chi-square test shows that there may be a strong relation between vectorization the clusters of text vectorization and notes. Since the p-value is far smaller than 0.05, the test is considered reliable."
   ]
  },
  {
   "cell_type": "markdown",
   "id": "5c276e73",
   "metadata": {},
   "source": [
    "# Future Work\n",
    "\n",
    "## PCA Method\n",
    "\n",
    "In earlier sections, cluster labels of notes data are plotted using a 3d plot function. This was possible since notes contained 3 attributes; 'funny', 'useful', 'cool'. Each attribute represented a dimension in the unit cube. Text labels are also a multidimensional array. Every word of the review dataset represented a dimension, therefore plotting the text labels was impossible using the defined 'plot3d' function.\n",
    "Principal component analysis (PCA) is a statistical method that summarizes the content in large data tables as a smaller set called \"summary indexes\" which helps the visualization and analysis to be done easily. PCA method will be used in the review dataset."
   ]
  },
  {
   "cell_type": "markdown",
   "id": "710aa4ed",
   "metadata": {},
   "source": [
    "## High Performance Computing \n",
    "\n",
    "Since we had limited computing resources we needed sampling. Executing the Experiment codes on the entire Yelp Dataset requires a computer with a large RAM capacity. Istanbul Technical University has the National Center for High Performance Computing (UHeM) that provides academics and students with the use of supercomputing and data storage services. UHeM services will be used in order to apply the experiment of this project to the entire Yelp Dataset. Further information about the UHeM services can be found in the following <a href='https://en.uhem.itu.edu.tr/'>[19]</a>"
   ]
  },
  {
   "cell_type": "markdown",
   "id": "7a285811",
   "metadata": {},
   "source": [
    "# References"
   ]
  },
  {
   "cell_type": "markdown",
   "id": "9b5db5ba",
   "metadata": {},
   "source": [
    "[1] Yelp. (n.d.). Retrieved January 25, 2022, from https://www.yelp.com/ \n",
    "\n",
    "[2] Yelp open dataset. Yelp Dataset. (n.d.). Retrieved January 25, 2022, from https://www.yelp.com/dataset\n",
    "\n",
    "[3] IBM Cloud Education. (n.d.). What is supervised learning? IBM. Retrieved January 25, 2022, from https://www.ibm.com/cloud/learn/supervised-learning \n",
    "\n",
    "[4] 3.1. cross-validation: Evaluating estimator performance. scikit. (n.d.). Retrieved January 25, 2022, from https://scikit-learn.org/stable/modules/cross_validation.html \n",
    "\n",
    "[5] IBM Cloud Education. (n.d.). What is unsupervised learning? IBM. Retrieved January 25, 2022, from https://www.ibm.com/cloud/learn/unsupervised-learning \n",
    "\n",
    "[6] Sklearn.cluster.kmeans. scikit. (n.d.). Retrieved January 25, 2022, from https://scikit-learn.org/stable/modules/generated/sklearn.cluster.KMeans.html?highlight=kmeans#sklearn.cluster.KMeans \n",
    "\n",
    "[7] Sklearn.cluster.DBSCAN. scikit. (n.d.). Retrieved January 25, 2022, from https://scikit-learn.org/stable/modules/generated/sklearn.cluster.DBSCAN.html \n",
    "\n",
    "[8] Van Rossum, G., & Drake, F. L. (2009). Python 3 Reference Manual. Scotts Valley, CA: CreateSpace.\n",
    "\n",
    "[9] Scikit-learn: Machine Learning in Python, Pedregosa et al., JMLR 12, pp. 2825-2830, 2011.\n",
    "\n",
    "[10] McKinney, W., & others. (2010). Data structures for statistical computing in python. In Proceedings of the 9th Python in Science Conference (Vol. 445, pp. 51–56).\n",
    "\n",
    "[11] Harris, C. R., Millman, K. J., van der Walt, S. J., Gommers, R., Virtanen, P., Cournapeau, D., … Oliphant, T. E. (2020). Array programming with NumPy. Nature, 585, 357–362. https://doi.org/10.1038/s41586-020-2649-2\n",
    "\n",
    "[12] Virtanen, P., Gommers, R., Oliphant, T. E., Haberland, M., Reddy, T., Cournapeau, D., … SciPy 1.0 Contributors. (2020). SciPy 1.0: Fundamental Algorithms for Scientific Computing in Python. Nature Methods, 17, 261–272. https://doi.org/10.1038/s41592-019-0686-2\n",
    "\n",
    "[13] Hunter, J. D. (2007). Matplotlib: A 2D graphics environment. Computing in Science &amp; Engineering, 9(3), 90–95.\n",
    "\n",
    "[14] Bigtextfilesplitter. (n.d.). Retrieved January 25, 2022, from https://www.withdata.com/big-text-file-splitter/ \n",
    "\n",
    "[15] Demo of DBSCAN clustering algorithm. scikit. (n.d.). Retrieved January 25, 2022, from https://scikit-learn.org/stable/auto_examples/cluster/plot_dbscan.html \n",
    "\n",
    "[16] Francisco, M. – S., Maureen, Zealand, P. – N., Pythia, Mark, Amrut, P., Italy, A. M. –, Maiorana, A., Bulgaria, michael –, Michael, California, Y. –, Yuri, Europe, T. –, Tom, Najam, Shannon, P. –, &amp; Philip. (n.d.). Quick-start. Regex Cheat Sheet. Retrieved January 25, 2022, from https://www.rexegg.com/regex-quickstart.html \n",
    "\n",
    "[17] Replace values in pandas dataframe using regex. GeeksforGeeks. (2020, December 29). Retrieved January 25, 2022, from https://www.geeksforgeeks.org/replace-values-in-pandas-dataframe-using-regex/ \n",
    "\n",
    "[18] Sklearn.feature_extraction.text.CountVectorizer. scikit. (n.d.). Retrieved January 25, 2022, from https://scikit-learn.org/stable/modules/generated/sklearn.feature_extraction.text.CountVectorizer.html \n",
    "\n",
    "[19] National HPC Center. UHeM. (n.d.). Retrieved January 25, 2022, from https://en.uhem.itu.edu.tr/ "
   ]
  }
 ],
 "metadata": {
  "kernelspec": {
   "display_name": "Python 3 (ipykernel)",
   "language": "python",
   "name": "python3"
  },
  "language_info": {
   "codemirror_mode": {
    "name": "ipython",
    "version": 3
   },
   "file_extension": ".py",
   "mimetype": "text/x-python",
   "name": "python",
   "nbconvert_exporter": "python",
   "pygments_lexer": "ipython3",
   "version": "3.9.0"
  }
 },
 "nbformat": 4,
 "nbformat_minor": 5
}
